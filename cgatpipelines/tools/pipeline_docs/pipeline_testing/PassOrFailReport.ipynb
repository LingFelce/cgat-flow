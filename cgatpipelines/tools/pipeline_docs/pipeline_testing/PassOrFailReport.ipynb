{
 "cells": [
  {
   "cell_type": "code",
   "execution_count": 7,
   "metadata": {},
   "outputs": [],
   "source": [
    "import sqlite3\n",
    "import pandas as pd"
   ]
  },
  {
   "cell_type": "markdown",
   "metadata": {},
   "source": [
    "# Table of pass or failed pipelines\n"
   ]
  },
  {
   "cell_type": "code",
   "execution_count": 10,
   "metadata": {},
   "outputs": [
    {
     "data": {
      "text/html": [
       "<div>\n",
       "<style scoped>\n",
       "    .dataframe tbody tr th:only-of-type {\n",
       "        vertical-align: middle;\n",
       "    }\n",
       "\n",
       "    .dataframe tbody tr th {\n",
       "        vertical-align: top;\n",
       "    }\n",
       "\n",
       "    .dataframe thead th {\n",
       "        text-align: right;\n",
       "    }\n",
       "</style>\n",
       "<table border=\"1\" class=\"dataframe\">\n",
       "  <thead>\n",
       "    <tr style=\"text-align: right;\">\n",
       "      <th></th>\n",
       "      <th>track</th>\n",
       "      <th>status</th>\n",
       "      <th>job_finished</th>\n",
       "      <th>nfiles</th>\n",
       "      <th>nref</th>\n",
       "      <th>missing</th>\n",
       "      <th>extra</th>\n",
       "      <th>different</th>\n",
       "      <th>different_md5</th>\n",
       "      <th>different_lines</th>\n",
       "      <th>same</th>\n",
       "      <th>same_md5</th>\n",
       "      <th>same_lines</th>\n",
       "      <th>same_exist</th>\n",
       "      <th>files_missing</th>\n",
       "      <th>files_extra</th>\n",
       "      <th>files_different_md5</th>\n",
       "      <th>files_different_lines</th>\n",
       "    </tr>\n",
       "  </thead>\n",
       "  <tbody>\n",
       "    <tr>\n",
       "      <th>0</th>\n",
       "      <td>test_mapping</td>\n",
       "      <td>OK</td>\n",
       "      <td>1</td>\n",
       "      <td>41</td>\n",
       "      <td>41</td>\n",
       "      <td>0</td>\n",
       "      <td>0</td>\n",
       "      <td>0</td>\n",
       "      <td>0</td>\n",
       "      <td>0</td>\n",
       "      <td>41</td>\n",
       "      <td>20</td>\n",
       "      <td>21</td>\n",
       "      <td>0</td>\n",
       "      <td>None</td>\n",
       "      <td>None</td>\n",
       "      <td>None</td>\n",
       "      <td>None</td>\n",
       "    </tr>\n",
       "  </tbody>\n",
       "</table>\n",
       "</div>"
      ],
      "text/plain": [
       "          track status  job_finished  nfiles  nref  missing  extra  different  \\\n",
       "0  test_mapping     OK             1      41    41        0      0          0   \n",
       "\n",
       "   different_md5  different_lines  same  same_md5  same_lines  same_exist  \\\n",
       "0              0                0    41        20          21           0   \n",
       "\n",
       "  files_missing files_extra files_different_md5 files_different_lines  \n",
       "0          None        None                None                  None  "
      ]
     },
     "execution_count": 10,
     "metadata": {},
     "output_type": "execute_result"
    }
   ],
   "source": [
    "conn = sqlite3.connect(\"csvdb\")\n",
    "\n",
    "df = pd.read_sql_query(\"SELECT * FROM md5_compare;\", conn)\n",
    "df"
   ]
  }
 ],
 "metadata": {
  "kernelspec": {
   "display_name": "Python 3",
   "language": "python",
   "name": "python3"
  },
  "language_info": {
   "codemirror_mode": {
    "name": "ipython",
    "version": 3
   },
   "file_extension": ".py",
   "mimetype": "text/x-python",
   "name": "python",
   "nbconvert_exporter": "python",
   "pygments_lexer": "ipython3",
   "version": "3.6.6"
  }
 },
 "nbformat": 4,
 "nbformat_minor": 2
}
